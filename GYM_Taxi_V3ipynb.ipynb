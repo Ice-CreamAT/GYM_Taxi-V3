{
  "nbformat": 4,
  "nbformat_minor": 0,
  "metadata": {
    "colab": {
      "provenance": [],
      "authorship_tag": "ABX9TyO/xiuBz5oh5ughgJXEQibk",
      "include_colab_link": true
    },
    "kernelspec": {
      "name": "python3",
      "display_name": "Python 3"
    },
    "language_info": {
      "name": "python"
    }
  },
  "cells": [
    {
      "cell_type": "markdown",
      "metadata": {
        "id": "view-in-github",
        "colab_type": "text"
      },
      "source": [
        "<a href=\"https://colab.research.google.com/github/Ice-CreamAT/GYM_Taxi-V3/blob/main/GYM_Taxi_V3ipynb.ipynb\" target=\"_parent\"><img src=\"https://colab.research.google.com/assets/colab-badge.svg\" alt=\"Open In Colab\"/></a>"
      ]
    },
    {
      "cell_type": "markdown",
      "source": [
        "#**ENVIROMENT**"
      ],
      "metadata": {
        "id": "kPpo1OJabKp8"
      }
    },
    {
      "cell_type": "code",
      "execution_count": 65,
      "metadata": {
        "id": "mkBhjTTaE_mu"
      },
      "outputs": [],
      "source": [
        "import gym\n",
        "import random"
      ]
    },
    {
      "cell_type": "code",
      "source": [
        "env = gym.make('Taxi-v3').env"
      ],
      "metadata": {
        "id": "XInXJbRhLHkp"
      },
      "execution_count": 84,
      "outputs": []
    },
    {
      "cell_type": "code",
      "source": [
        "env.reset()\n",
        "env.render()"
      ],
      "metadata": {
        "id": "JDEXWxK_LPRw"
      },
      "execution_count": 85,
      "outputs": []
    },
    {
      "cell_type": "code",
      "source": [
        "print(env.action_space)"
      ],
      "metadata": {
        "colab": {
          "base_uri": "https://localhost:8080/"
        },
        "id": "Ew9tZXZDP8js",
        "outputId": "592c413e-0b0a-4c48-b338-af9031590f28"
      },
      "execution_count": 68,
      "outputs": [
        {
          "output_type": "stream",
          "name": "stdout",
          "text": [
            "Discrete(6)\n"
          ]
        }
      ]
    },
    {
      "cell_type": "code",
      "source": [
        "print(env.observation_space)"
      ],
      "metadata": {
        "colab": {
          "base_uri": "https://localhost:8080/"
        },
        "id": "kftgjpb7RN_F",
        "outputId": "fd4f49b5-5de4-4bcd-cf23-69cf2e84563c"
      },
      "execution_count": 69,
      "outputs": [
        {
          "output_type": "stream",
          "name": "stdout",
          "text": [
            "Discrete(500)\n"
          ]
        }
      ]
    },
    {
      "cell_type": "code",
      "source": [
        "len(env.P)"
      ],
      "metadata": {
        "colab": {
          "base_uri": "https://localhost:8080/"
        },
        "id": "RzA-zAw4Y2yE",
        "outputId": "1f3fa5d3-8eff-478b-a310-607638348080"
      },
      "execution_count": 70,
      "outputs": [
        {
          "output_type": "execute_result",
          "data": {
            "text/plain": [
              "500"
            ]
          },
          "metadata": {},
          "execution_count": 70
        }
      ]
    },
    {
      "cell_type": "code",
      "source": [
        "# env.P"
      ],
      "metadata": {
        "id": "_WapCRR5YpMt"
      },
      "execution_count": 71,
      "outputs": []
    },
    {
      "cell_type": "markdown",
      "source": [
        "#**Q-Learning**"
      ],
      "metadata": {
        "id": "Y2dQWSQUbSSM"
      }
    },
    {
      "cell_type": "code",
      "source": [
        "import numpy as np\n",
        "q_table = np.zeros([env.observation_space.n, env.action_space.n])\n",
        "q_table.shape"
      ],
      "metadata": {
        "colab": {
          "base_uri": "https://localhost:8080/"
        },
        "id": "fhkX-f98f9U-",
        "outputId": "d4977360-a3a5-4e85-f675-60d7ab30f817"
      },
      "execution_count": 72,
      "outputs": [
        {
          "output_type": "execute_result",
          "data": {
            "text/plain": [
              "(500, 6)"
            ]
          },
          "metadata": {},
          "execution_count": 72
        }
      ]
    },
    {
      "cell_type": "code",
      "source": [
        "%%time\n",
        "from IPython.display import clear_output\n",
        "\n",
        "alpha = 0.1\n",
        "gamma = 0.6\n",
        "epsilon = 0.1\n",
        "\n",
        "for i in range(100000):\n",
        "  state = env.reset()\n",
        "\n",
        "  punishments, reward = 0, 0\n",
        "  done = False\n",
        "  while not done:\n",
        "    # Exploration\n",
        "    if random.uniform(0,1) < epsilon:\n",
        "      action = env.action_space.sample()\n",
        "    # Exploitation\n",
        "    else:\n",
        "      action = np.argmax(q_table[state])\n",
        "\n",
        "    next_state, reward, done, info = env.step(action)\n",
        "\n",
        "    q_old = q_table[state, action]\n",
        "    next_max = np.max(q_table[next_state])\n",
        "\n",
        "    q_new = (1 - alpha) * q_old + alpha * (reward + gamma * next_max)\n",
        "    q_table[state, action] = q_new\n",
        "\n",
        "    if reward ==-10:\n",
        "      punishments += 1\n",
        "\n",
        "    state = next_state\n",
        "\n",
        "  if i % 100 == 0:\n",
        "    clear_output(wait=True)\n",
        "    print('Episode: ', i)\n",
        "\n",
        "print('Training Complete!')"
      ],
      "metadata": {
        "colab": {
          "base_uri": "https://localhost:8080/"
        },
        "id": "xzcLBAmxbGg7",
        "outputId": "2a89ca61-a675-4e9f-ca64-d828104c3bd9"
      },
      "execution_count": 73,
      "outputs": [
        {
          "output_type": "stream",
          "name": "stdout",
          "text": [
            "Episode:  99900\n",
            "Training Complete!\n",
            "CPU times: user 1min 17s, sys: 5.91 s, total: 1min 23s\n",
            "Wall time: 1min 26s\n"
          ]
        }
      ]
    },
    {
      "cell_type": "code",
      "source": [
        "env.reset()\n",
        "env.render()"
      ],
      "metadata": {
        "id": "7F3aNMV0pemu"
      },
      "execution_count": 74,
      "outputs": []
    },
    {
      "cell_type": "code",
      "source": [
        "# 0 = south ; 1 = north ; 2 = east ; 3 = west ; 4 = pickup ; 5 = dropoff\n",
        "q_table[452]"
      ],
      "metadata": {
        "colab": {
          "base_uri": "https://localhost:8080/"
        },
        "id": "0jRbk-vNnynQ",
        "outputId": "e19fb489-fd95-475c-a1d8-42df4521c406"
      },
      "execution_count": 75,
      "outputs": [
        {
          "output_type": "execute_result",
          "data": {
            "text/plain": [
              "array([-2.47902243, -2.47061344, -2.47448297, -2.47947274, -9.65139274,\n",
              "       -6.40288083])"
            ]
          },
          "metadata": {},
          "execution_count": 75
        }
      ]
    },
    {
      "cell_type": "markdown",
      "source": [
        "# **Avaliation**"
      ],
      "metadata": {
        "id": "F31__hvjuS9T"
      }
    },
    {
      "cell_type": "code",
      "source": [
        "total_punishments = 0\n",
        "episodes = 50\n",
        "frames = []\n",
        "\n",
        "for _ in range(episodes):\n",
        "  state = env.reset()\n",
        "  punishments, rewards = 0, 0\n",
        "  done = False\n",
        "  while not done:\n",
        "    action = np.argmax(q_table[state])\n",
        "    state, reward, done, info = env.step(action)\n",
        "\n",
        "    if reward == -10:\n",
        "      punishments += 1\n",
        "\n",
        "    frames.append({ 'frame' : env.render(mode='ansi'),\n",
        "                    'state' : state,\n",
        "                    'action' : action,\n",
        "                    'reward' : reward\n",
        "                  })\n",
        "    total_punishments += punishments\n",
        "\n",
        "print('Episodes', episodes)\n",
        "print('Punishments', punishments)"
      ],
      "metadata": {
        "colab": {
          "base_uri": "https://localhost:8080/"
        },
        "id": "ETc72ncTuOIK",
        "outputId": "ecc6b613-ab0f-4e55-f3f1-c99f5eeb9ebb"
      },
      "execution_count": 80,
      "outputs": [
        {
          "output_type": "stream",
          "name": "stdout",
          "text": [
            "Episodes 50\n",
            "Punishments 0\n"
          ]
        }
      ]
    },
    {
      "cell_type": "code",
      "source": [
        "# frames"
      ],
      "metadata": {
        "id": "agbgpb6WwK1Q"
      },
      "execution_count": 77,
      "outputs": []
    },
    {
      "cell_type": "code",
      "source": [
        "from time import sleep\n",
        "for frame in frames:\n",
        "  clear_output(wait=True)\n",
        "  print(frame['frame'])\n",
        "  print('state', frame['state'])\n",
        "  print('action', frame['action'])\n",
        "  print('Reward', frame['reward'])\n",
        "  sleep(.5)"
      ],
      "metadata": {
        "colab": {
          "base_uri": "https://localhost:8080/"
        },
        "id": "eM-8DdutwPm3",
        "outputId": "8b487fbf-5259-4c97-c979-e33ccc6599ae"
      },
      "execution_count": null,
      "outputs": [
        {
          "output_type": "stream",
          "name": "stdout",
          "text": [
            "+---------+\n",
            "|\u001b[42mR\u001b[0m: | : :\u001b[35mG\u001b[0m|\n",
            "| : | : : |\n",
            "| : : : : |\n",
            "| | : | : |\n",
            "|Y| : |B: |\n",
            "+---------+\n",
            "  (Pickup)\n",
            "\n",
            "state 17\n",
            "action 4\n",
            "Reward -1\n"
          ]
        }
      ]
    }
  ]
}